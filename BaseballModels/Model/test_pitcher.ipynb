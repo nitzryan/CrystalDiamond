{
 "cells": [
  {
   "cell_type": "code",
   "execution_count": null,
   "id": "f85d2802",
   "metadata": {},
   "outputs": [],
   "source": [
    "import importlib"
   ]
  },
  {
   "cell_type": "code",
   "execution_count": null,
   "id": "3f4c300b",
   "metadata": {},
   "outputs": [],
   "source": [
    "import Data_Prep\n",
    "importlib.reload(Data_Prep)\n",
    "from Data_Prep import Data_Prep\n",
    "\n",
    "data_prep = Data_Prep()"
   ]
  },
  {
   "cell_type": "code",
   "execution_count": null,
   "id": "2627e591",
   "metadata": {},
   "outputs": [],
   "source": [
    "pitchers, inputs, outputs, max_input_size, dates = data_prep.Generate_IO_Pitchers(\"WHERE (lastProspectYear<? OR lastMLBSeason<?) AND isPitcher=?\", (2025,2025,1))"
   ]
  },
  {
   "cell_type": "code",
   "execution_count": null,
   "id": "66d5b418",
   "metadata": {},
   "outputs": [],
   "source": [
    "from sklearn.model_selection import train_test_split # type: ignore\n",
    "import torch\n",
    "x_train, x_test, y_train, y_test = train_test_split(inputs, outputs, test_size=0.25, random_state=4980)\n",
    "\n",
    "train_lengths = torch.tensor([len(seq) for seq in x_train])\n",
    "test_lengths = torch.tensor([len(seq) for seq in x_test])\n",
    "\n",
    "x_train_padded = torch.nn.utils.rnn.pad_sequence(x_train)\n",
    "x_test_padded = torch.nn.utils.rnn.pad_sequence(x_test)\n",
    "y_train_padded = torch.nn.utils.rnn.pad_sequence(y_train)\n",
    "y_test_padded = torch.nn.utils.rnn.pad_sequence(y_test)"
   ]
  },
  {
   "cell_type": "code",
   "execution_count": null,
   "id": "16d88b18",
   "metadata": {},
   "outputs": [],
   "source": [
    "import Pitcher_Dataset\n",
    "importlib.reload(Pitcher_Dataset)\n",
    "from Pitcher_Dataset import Pitcher_Dataset\n",
    "\n",
    "train_pitchers_dataset = Pitcher_Dataset(x_train_padded, train_lengths, y_train_padded)\n",
    "test_pitchers_dataset = Pitcher_Dataset(x_test_padded, test_lengths, y_test_padded)"
   ]
  },
  {
   "cell_type": "markdown",
   "id": "7d352de7",
   "metadata": {},
   "source": [
    "Train Model"
   ]
  },
  {
   "cell_type": "code",
   "execution_count": null,
   "id": "a3f002ca",
   "metadata": {},
   "outputs": [],
   "source": [
    "def count_parameters(model):\n",
    "    return sum(p.numel() for p in model.parameters() if p.requires_grad)"
   ]
  },
  {
   "cell_type": "code",
   "execution_count": null,
   "id": "b9ca6ec4",
   "metadata": {},
   "outputs": [],
   "source": [
    "import Pitcher_Model\n",
    "importlib.reload(Pitcher_Model)\n",
    "from Pitcher_Model import LSTM_Model, Classification_Loss\n",
    "from torch.optim import lr_scheduler\n",
    "import Model_Train\n",
    "importlib.reload(Model_Train)\n",
    "from Model_Train import trainAndGraph\n",
    "from Constants import device\n",
    "\n",
    "batch_size = 1000\n",
    "pitching_mutators = data_prep.Generate_Pitching_Mutators(batch_size, max_input_size)\n",
    "\n",
    "num_layers = 3\n",
    "hidden_size = 30\n",
    "network = LSTM_Model(x_train_padded[0].shape[1], num_layers, hidden_size, pitching_mutators)\n",
    "network = network.to(device)\n",
    "\n",
    "print(\"Num. Parameters:\", count_parameters(network))\n",
    "\n",
    "optimizer = torch.optim.Adam(network.parameters(), lr=0.003)\n",
    "scheduler = lr_scheduler.ReduceLROnPlateau(optimizer, factor=0.5, patience=20, cooldown=5, verbose=False)\n",
    "loss_function = Classification_Loss\n",
    "\n",
    "num_epochs = 1000\n",
    "training_generator = torch.utils.data.DataLoader(train_pitchers_dataset, batch_size=batch_size, shuffle=True)\n",
    "testing_generator = torch.utils.data.DataLoader(test_pitchers_dataset, batch_size=batch_size, shuffle=False)\n",
    "\n",
    "graph_y_range=(0.1,0.5)\n",
    "trainAndGraph(network, training_generator, testing_generator, loss_function, optimizer, scheduler, num_epochs, logging_interval=1, early_stopping_cutoff=40, should_output=True, graph_y_range=graph_y_range)"
   ]
  },
  {
   "cell_type": "markdown",
   "id": "5b5add79",
   "metadata": {},
   "source": [
    "Testing"
   ]
  },
  {
   "cell_type": "code",
   "execution_count": null,
   "id": "123a281d",
   "metadata": {},
   "outputs": [],
   "source": [
    "network.load_state_dict(torch.load(\"no_name.pt\"))\n",
    "network.eval()\n",
    "network = network.to(device)"
   ]
  },
  {
   "cell_type": "code",
   "execution_count": null,
   "id": "9f791403",
   "metadata": {},
   "outputs": [],
   "source": [
    "import torch.nn.functional as F\n",
    "\n",
    "def Check_Pitcher(id : int, name : str):\n",
    "    with torch.no_grad():\n",
    "        for i, pitcher in enumerate(pitchers):\n",
    "            if (pitcher.mlbId == id):\n",
    "                input = inputs[i].unsqueeze(0)\n",
    "                \n",
    "                output = outputs[i]\n",
    "                l = torch.tensor([input.shape[1]])\n",
    "                twar, pwar, level, pa = network(input.to(device), l.to(device))\n",
    "                \n",
    "                torch.set_printoptions(precision=3, sci_mode=False, linewidth=1000)\n",
    "                print(name)\n",
    "                print(F.softmax(twar.squeeze(0).squeeze(1), dim=1).cpu())\n",
    "                #print(F.softmax(level.squeeze(0).squeeze(1), dim=1).cpu())\n",
    "                print(output[0][0].item())\n",
    "                #print(output[0][2].item())\n",
    "                return"
   ]
  },
  {
   "cell_type": "markdown",
   "id": "0c36cecc",
   "metadata": {},
   "source": [
    "Get Hitter Losses"
   ]
  },
  {
   "cell_type": "code",
   "execution_count": null,
   "id": "878e0691",
   "metadata": {},
   "outputs": [],
   "source": [
    "#Check_Pitcher(621244, \"Jose Berrios\")\n",
    "Check_Pitcher(592102, \"Cody Allen\")"
   ]
  }
 ],
 "metadata": {
  "kernelspec": {
   "display_name": "Python 3",
   "language": "python",
   "name": "python3"
  },
  "language_info": {
   "codemirror_mode": {
    "name": "ipython",
    "version": 3
   },
   "file_extension": ".py",
   "mimetype": "text/x-python",
   "name": "python",
   "nbconvert_exporter": "python",
   "pygments_lexer": "ipython3",
   "version": "3.11.9"
  }
 },
 "nbformat": 4,
 "nbformat_minor": 5
}
