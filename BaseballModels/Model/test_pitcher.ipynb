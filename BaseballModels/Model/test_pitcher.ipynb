{
 "cells": [
  {
   "cell_type": "code",
   "execution_count": null,
   "id": "f85d2802",
   "metadata": {},
   "outputs": [],
   "source": [
    "import importlib"
   ]
  },
  {
   "cell_type": "code",
   "execution_count": null,
   "id": "3f4c300b",
   "metadata": {},
   "outputs": [],
   "source": [
    "import Data_Prep\n",
    "importlib.reload(Data_Prep)\n",
    "from Data_Prep import Data_Prep, Player_IO\n",
    "import Prep_Map\n",
    "importlib.reload(Prep_Map)\n",
    "import Output_Map\n",
    "importlib.reload(Output_Map)\n",
    "\n",
    "data_prep = Data_Prep(Prep_Map.statsonly_prep_map, Output_Map.base_output_map)"
   ]
  },
  {
   "cell_type": "code",
   "execution_count": null,
   "id": "2627e591",
   "metadata": {},
   "outputs": [],
   "source": [
    "pitcher_io_list = data_prep.Generate_IO_Pitchers(\"WHERE lastMLBSeason<? AND signingYear<? AND isPitcher=?\", (2025,2015,1), use_cutoff=True)"
   ]
  },
  {
   "cell_type": "code",
   "execution_count": null,
   "id": "66d5b418",
   "metadata": {},
   "outputs": [],
   "source": [
    "from sklearn.model_selection import train_test_split # type: ignore\n",
    "import torch\n",
    "io_train : list[Player_IO]\n",
    "io_test : list[Player_IO]\n",
    "io_train, io_test = train_test_split(pitcher_io_list, test_size=0.25, random_state=0)\n",
    "\n",
    "train_lengths = torch.tensor([io.length for io in io_train])\n",
    "test_lengths = torch.tensor([io.length for io in io_test])\n",
    "\n",
    "x_train_padded = torch.nn.utils.rnn.pad_sequence([io.input for io in io_train])\n",
    "x_test_padded = torch.nn.utils.rnn.pad_sequence([io.input for io in io_test])\n",
    "y_prospect_train_padded = torch.nn.utils.rnn.pad_sequence([io.output for io in io_train])\n",
    "y_prospect_test_padded = torch.nn.utils.rnn.pad_sequence([io.output for io in io_test])\n",
    "mask_prospect_train_padded = torch.nn.utils.rnn.pad_sequence([io.prospect_mask for io in io_train])\n",
    "mask_prospect_test_padded = torch.nn.utils.rnn.pad_sequence([io.prospect_mask for io in io_test])\n",
    "mask_level_train_padded = torch.nn.utils.rnn.pad_sequence([io.stat_level_mask for io in io_train])\n",
    "mask_level_test_padded = torch.nn.utils.rnn.pad_sequence([io.stat_level_mask for io in io_test])\n",
    "\n",
    "mask_year_train_padded = torch.nn.utils.rnn.pad_sequence([io.year_level_mask for io in io_train])\n",
    "mask_year_test_padded = torch.nn.utils.rnn.pad_sequence([io.year_level_mask for io in io_test])\n",
    "y_year_stats_train_padded = torch.nn.utils.rnn.pad_sequence([io.year_stat_output for io in io_train])\n",
    "y_year_stats_test_padded = torch.nn.utils.rnn.pad_sequence([io.year_stat_output for io in io_test])\n",
    "y_year_position_train_padded = torch.nn.utils.rnn.pad_sequence([io.year_pos_output for io in io_train])\n",
    "y_year_position_test_padded = torch.nn.utils.rnn.pad_sequence([io.year_pos_output for io in io_test])"
   ]
  },
  {
   "cell_type": "code",
   "execution_count": null,
   "id": "16d88b18",
   "metadata": {},
   "outputs": [],
   "source": [
    "import Player_Dataset\n",
    "importlib.reload(Player_Dataset)\n",
    "from Player_Dataset import Player_Dataset\n",
    "\n",
    "train_pitchers_dataset = Player_Dataset(x_train_padded, train_lengths, y_prospect_train_padded, mask_prospect_train_padded, mask_level_train_padded, mask_year_train_padded, y_year_stats_train_padded, y_year_position_train_padded)\n",
    "test_pitchers_dataset = Player_Dataset(x_test_padded, test_lengths, y_prospect_test_padded, mask_prospect_test_padded, mask_level_test_padded, mask_year_test_padded, y_year_stats_test_padded, y_year_position_test_padded)"
   ]
  },
  {
   "cell_type": "markdown",
   "id": "7d352de7",
   "metadata": {},
   "source": [
    "Train Model"
   ]
  },
  {
   "cell_type": "code",
   "execution_count": null,
   "id": "a3f002ca",
   "metadata": {},
   "outputs": [],
   "source": [
    "def count_parameters(model):\n",
    "    return sum(p.numel() for p in model.parameters() if p.requires_grad)"
   ]
  },
  {
   "cell_type": "code",
   "execution_count": null,
   "id": "b9ca6ec4",
   "metadata": {},
   "outputs": [],
   "source": [
    "import Player_Model\n",
    "importlib.reload(Player_Model)\n",
    "from Player_Model import RNN_Model, Classification_Loss, Stats_L1_Loss\n",
    "from torch.optim import lr_scheduler\n",
    "import Model_Train\n",
    "importlib.reload(Model_Train)\n",
    "from Model_Train import trainAndGraph\n",
    "from Constants import device\n",
    "\n",
    "batch_size = 200\n",
    "mutators = data_prep.Generate_Pitching_Mutators(batch_size, Player_IO.GetMaxLength(pitcher_io_list))\n",
    "\n",
    "num_layers = 4\n",
    "hidden_size = 20\n",
    "network = RNN_Model(x_train_padded[0].shape[1], num_layers, hidden_size, mutators, output_map=data_prep.output_map, is_hitter=False)\n",
    "network = network.to(device)\n",
    "\n",
    "print(\"Num. Parameters:\", count_parameters(network))\n",
    "\n",
    "optimizer = torch.optim.Adam(network.parameters(), lr=0.004)\n",
    "scheduler = lr_scheduler.ReduceLROnPlateau(optimizer, factor=0.9, patience=50, cooldown=10, verbose=False)\n",
    "loss_function = Classification_Loss\n",
    "loss_function_stats = Stats_L1_Loss\n",
    "loss_function_position = Player_Model.Position_Classification_Loss\n",
    "\n",
    "num_epochs = 100\n",
    "training_generator = torch.utils.data.DataLoader(train_pitchers_dataset, batch_size=batch_size, shuffle=True)\n",
    "testing_generator = torch.utils.data.DataLoader(test_pitchers_dataset, batch_size=batch_size, shuffle=False)\n",
    "\n",
    "trainAndGraph(network, training_generator, testing_generator, len(train_pitchers_dataset), len(test_pitchers_dataset), loss_function, loss_function_stats, loss_function_position, optimizer, scheduler, num_epochs, logging_interval=25, early_stopping_cutoff=2000, should_output=True, model_name=\"Models/default_statsonly_pitcher.pt\", save_last=True)"
   ]
  },
  {
   "cell_type": "markdown",
   "id": "5b5add79",
   "metadata": {},
   "source": [
    "Testing"
   ]
  },
  {
   "cell_type": "code",
   "execution_count": null,
   "id": "a87d2eb3",
   "metadata": {},
   "outputs": [],
   "source": [
    "import torch.nn as nn\n",
    "import sqlite3\n",
    "from tqdm import tqdm\n",
    "test_db = sqlite3.connect('test.db')"
   ]
  },
  {
   "cell_type": "code",
   "execution_count": null,
   "id": "123a281d",
   "metadata": {},
   "outputs": [],
   "source": [
    "network.load_state_dict(torch.load(\"Models/default_pitcher.pt\"))\n",
    "network.eval()\n",
    "network = network.to(device)"
   ]
  },
  {
   "cell_type": "code",
   "execution_count": null,
   "id": "9f791403",
   "metadata": {},
   "outputs": [],
   "source": [
    "cursor = test_db.cursor()\n",
    "cursor.execute(\"DELETE FROM StatPredP\")\n",
    "cursor.execute(\"DELETE FROM StatActP\")\n",
    "test_db.commit()\n",
    "cursor = test_db\n",
    "\n",
    "softmax = nn.Softmax(dim=0)\n",
    "\n",
    "for io in tqdm(pitcher_io_list):\n",
    "    pitcher = io.player\n",
    "    input = io.input.unsqueeze(0)  \n",
    "    output = io.output\n",
    "    l = torch.tensor([input.shape[1]])\n",
    "    twar, pwar, level, pa, value, year_stats, year_positions = network(input.to(device), l.to(device))\n",
    "    \n",
    "    for i in range(io.year_stat_output.size(0)):\n",
    "        year_position_probs = softmax(year_positions.squeeze(0)[i,:2])\n",
    "        test_db.execute(\"INSERT INTO StatPredP VALUES (?,?,?,?,?,?,?,?,?,?,?,?,?,?,?)\", (pitcher.mlbId, 1, io.dates[i,1].item(), io.dates[i,2].item()) + tuple(year_stats.squeeze(0)[i,:9].tolist()) + tuple(year_position_probs.tolist()))\n",
    "        test_db.execute(\"INSERT INTO StatActP VALUES (?,?,?,?,?,?,?,?,?,?,?,?,?,?,?)\", (pitcher.mlbId, 1, io.dates[i,1].item(), io.dates[i,2].item()) + tuple(io.year_stat_output[i,:].tolist()) + tuple(io.year_pos_output[i,:].tolist()))\n",
    "test_db.commit()"
   ]
  }
 ],
 "metadata": {
  "kernelspec": {
   "display_name": "Python 3",
   "language": "python",
   "name": "python3"
  },
  "language_info": {
   "codemirror_mode": {
    "name": "ipython",
    "version": 3
   },
   "file_extension": ".py",
   "mimetype": "text/x-python",
   "name": "python",
   "nbconvert_exporter": "python",
   "pygments_lexer": "ipython3",
   "version": "3.11.9"
  }
 },
 "nbformat": 4,
 "nbformat_minor": 5
}
