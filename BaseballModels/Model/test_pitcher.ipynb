{
 "cells": [
  {
   "cell_type": "code",
   "execution_count": null,
   "id": "3f4c300b",
   "metadata": {},
   "outputs": [],
   "source": [
    "import importlib\n",
    "import torch\n",
    "import Data_Prep\n",
    "importlib.reload(Data_Prep)\n",
    "from Data_Prep import Data_Prep, Player_IO\n",
    "import Prep_Map\n",
    "importlib.reload(Prep_Map)\n",
    "import Output_Map\n",
    "importlib.reload(Output_Map)\n",
    "import Player_Dataset\n",
    "importlib.reload(Player_Dataset)\n",
    "from Player_Dataset import Player_Dataset, Create_Test_Train_Datasets"
   ]
  },
  {
   "cell_type": "code",
   "execution_count": null,
   "id": "2627e591",
   "metadata": {},
   "outputs": [],
   "source": [
    "data_prep = Data_Prep(Prep_Map.base_prep_map, Output_Map.base_output_map)\n",
    "pitcher_io_list = data_prep.Generate_IO_Pitchers(\"WHERE lastMLBSeason<? AND signingYear<? AND isPitcher=?\", (2025,2015,1), use_cutoff=True)\n",
    "train_dataset, test_dataset = Create_Test_Train_Datasets(pitcher_io_list, 0.25, 0)"
   ]
  },
  {
   "cell_type": "markdown",
   "id": "7d352de7",
   "metadata": {},
   "source": [
    "Train Model"
   ]
  },
  {
   "cell_type": "code",
   "execution_count": null,
   "id": "a3f002ca",
   "metadata": {},
   "outputs": [],
   "source": [
    "def count_parameters(model):\n",
    "    return sum(p.numel() for p in model.parameters() if p.requires_grad)"
   ]
  },
  {
   "cell_type": "code",
   "execution_count": null,
   "id": "b9ca6ec4",
   "metadata": {},
   "outputs": [],
   "source": [
    "import Player_Model\n",
    "importlib.reload(Player_Model)\n",
    "from Player_Model import RNN_Model\n",
    "from torch.optim import lr_scheduler\n",
    "import Model_Train\n",
    "importlib.reload(Model_Train)\n",
    "from Model_Train import trainAndGraph\n",
    "from Constants import device\n",
    "\n",
    "batch_size = 200\n",
    "mutators = data_prep.Generate_Pitching_Mutators(batch_size, Player_IO.GetMaxLength(pitcher_io_list))\n",
    "\n",
    "num_layers = 4\n",
    "hidden_size = 20\n",
    "network = RNN_Model(train_dataset.get_input_size(), num_layers, hidden_size, mutators, data_prep=data_prep, is_hitter=False)\n",
    "network = network.to(device)\n",
    "\n",
    "print(\"Num. Parameters:\", count_parameters(network))\n",
    "\n",
    "optimizer = torch.optim.Adam(network.parameters(), lr=0.004)\n",
    "scheduler = lr_scheduler.ReduceLROnPlateau(optimizer, factor=0.9, patience=50, cooldown=10, verbose=False)\n",
    "\n",
    "num_epochs = 500\n",
    "training_generator = torch.utils.data.DataLoader(train_dataset, batch_size=batch_size, shuffle=True)\n",
    "testing_generator = torch.utils.data.DataLoader(test_dataset, batch_size=batch_size, shuffle=False)\n",
    "\n",
    "trainAndGraph(network, training_generator, testing_generator, len(train_dataset), len(test_dataset), optimizer, scheduler, num_epochs, logging_interval=25, early_stopping_cutoff=2000, should_output=True, model_name=\"Models/default_pitcher.pt\", save_last=True)"
   ]
  },
  {
   "cell_type": "markdown",
   "id": "5b5add79",
   "metadata": {},
   "source": [
    "Testing"
   ]
  },
  {
   "cell_type": "code",
   "execution_count": null,
   "id": "a87d2eb3",
   "metadata": {},
   "outputs": [],
   "source": [
    "import torch.nn as nn\n",
    "import sqlite3\n",
    "from tqdm import tqdm\n",
    "test_db = sqlite3.connect('test.db')"
   ]
  },
  {
   "cell_type": "code",
   "execution_count": null,
   "id": "123a281d",
   "metadata": {},
   "outputs": [],
   "source": [
    "network.load_state_dict(torch.load(\"Models/default_pitcher.pt\"))\n",
    "network.eval()\n",
    "network = network.to(device)"
   ]
  },
  {
   "cell_type": "code",
   "execution_count": null,
   "id": "9f791403",
   "metadata": {},
   "outputs": [],
   "source": [
    "cursor = test_db.cursor()\n",
    "cursor.execute(\"DELETE FROM StatPredP\")\n",
    "cursor.execute(\"DELETE FROM StatActP\")\n",
    "cursor.execute(\"DELETE FROM MlbValuePredP\")\n",
    "cursor.execute(\"DELETE FROM MlbValueActP\")\n",
    "test_db.commit()\n",
    "\n",
    "softmax = nn.Softmax(dim=0)\n",
    "\n",
    "mlb_value_mean : torch.Tensor = data_prep.__getattribute__('__pitchervalues_means').to(device)\n",
    "mlb_value_stds : torch.Tensor = data_prep.__getattribute__('__pitchervalues_devs').to(device)\n",
    "\n",
    "for io in tqdm(pitcher_io_list):\n",
    "    pitcher = io.player\n",
    "    input = io.input.unsqueeze(0)  \n",
    "    output = io.output\n",
    "    l = torch.tensor([input.shape[1]])\n",
    "    twar, pwar, level, pa, value, year_stats, year_positions, mlb_value = network(input.to(device), l.to(device))\n",
    "    \n",
    "    #print(mlb_value.shape)\n",
    "    mlb_value = mlb_value.squeeze(0)\n",
    "    #print(mlb_value.shape)\n",
    "    mlb_value_norm = (mlb_value * mlb_value_stds) + mlb_value_mean\n",
    "    \n",
    "    mlb_value_act = (io.mlb_value_stats.to(device) * mlb_value_stds) + mlb_value_mean\n",
    "    for i in range(io.year_stat_output.size(0)):\n",
    "        year_position_probs = softmax(year_positions.squeeze(0)[i,:2])\n",
    "        test_db.execute(\"INSERT INTO StatPredP VALUES (?,?,?,?,?,?,?,?,?,?,?,?,?,?,?)\", (pitcher.mlbId, 1, io.dates[i,1].item(), io.dates[i,2].item()) + tuple(year_stats.squeeze(0)[i,:9].tolist()) + tuple(year_position_probs.tolist()))\n",
    "        test_db.execute(\"INSERT INTO StatActP VALUES (?,?,?,?,?,?,?,?,?,?,?,?,?,?,?)\", (pitcher.mlbId, 1, io.dates[i,1].item(), io.dates[i,2].item()) + tuple(io.year_stat_output[i,:].tolist()) + tuple(io.year_pos_output[i,:].tolist()))\n",
    "        test_db.execute(\"INSERT INTO MlbValuePredP VALUES (?,?,?,?,?,?,?,?,?,?,?,?,?,?,?)\", (pitcher.mlbId,)  + tuple(io.dates[i,1:3].tolist()) + tuple(mlb_value_norm[i,:].tolist()))\n",
    "        test_db.execute(\"INSERT INTO MlbValueActP VALUES (?,?,?,?,?,?,?,?,?,?,?,?,?,?,?)\", (pitcher.mlbId,)  + tuple(io.dates[i,1:3].tolist()) + tuple(mlb_value_act[i,:].tolist()))\n",
    "test_db.commit()"
   ]
  },
  {
   "cell_type": "markdown",
   "id": "e18bbd75",
   "metadata": {},
   "source": [
    "Stats Only"
   ]
  },
  {
   "cell_type": "code",
   "execution_count": null,
   "id": "ca27a181",
   "metadata": {},
   "outputs": [],
   "source": [
    "data_prep = Data_Prep(Prep_Map.base_prep_map, Output_Map.base_output_map)\n",
    "pitcher_io_list = data_prep.Generate_IO_Pitchers(\"WHERE lastMLBSeason<? AND signingYear<? AND isPitcher=?\", (2025,2015,1), use_cutoff=True)\n",
    "train_dataset, test_dataset = Create_Test_Train_Datasets(pitcher_io_list, 0.25, 0)"
   ]
  },
  {
   "cell_type": "code",
   "execution_count": null,
   "id": "fefb8f5f",
   "metadata": {},
   "outputs": [],
   "source": [
    "batch_size = 200\n",
    "mutators = data_prep.Generate_Pitching_Mutators(batch_size, Player_IO.GetMaxLength(pitcher_io_list))\n",
    "\n",
    "num_layers = 4\n",
    "hidden_size = 20\n",
    "network = RNN_Model(train_dataset.get_input_size(), num_layers, hidden_size, mutators, data_prep=data_prep, is_hitter=False)\n",
    "network = network.to(device)\n",
    "\n",
    "print(\"Num. Parameters:\", count_parameters(network))\n",
    "\n",
    "optimizer = torch.optim.Adam(network.parameters(), lr=0.004)\n",
    "scheduler = lr_scheduler.ReduceLROnPlateau(optimizer, factor=0.9, patience=50, cooldown=10, verbose=False)\n",
    "\n",
    "num_epochs = 100\n",
    "training_generator = torch.utils.data.DataLoader(train_dataset, batch_size=batch_size, shuffle=True)\n",
    "testing_generator = torch.utils.data.DataLoader(test_dataset, batch_size=batch_size, shuffle=False)\n",
    "\n",
    "trainAndGraph(network, training_generator, testing_generator, len(train_dataset), len(test_dataset), optimizer, scheduler, num_epochs, logging_interval=25, early_stopping_cutoff=2000, should_output=True, model_name=\"Models/default_statsonly_pitcher.pt\", save_last=True)"
   ]
  }
 ],
 "metadata": {
  "kernelspec": {
   "display_name": "Python 3",
   "language": "python",
   "name": "python3"
  },
  "language_info": {
   "codemirror_mode": {
    "name": "ipython",
    "version": 3
   },
   "file_extension": ".py",
   "mimetype": "text/x-python",
   "name": "python",
   "nbconvert_exporter": "python",
   "pygments_lexer": "ipython3",
   "version": "3.11.9"
  }
 },
 "nbformat": 4,
 "nbformat_minor": 5
}
