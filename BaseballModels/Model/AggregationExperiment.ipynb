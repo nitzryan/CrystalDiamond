{
 "cells": [
  {
   "cell_type": "code",
   "execution_count": 1,
   "id": "4ae84507",
   "metadata": {},
   "outputs": [],
   "source": [
    "from Constants import experimental_db\n",
    "from DBTypes import *\n",
    "from typing import Callable\n",
    "from tqdm.notebook import tqdm\n",
    "import random"
   ]
  },
  {
   "cell_type": "code",
   "execution_count": 2,
   "id": "6d1acde7",
   "metadata": {},
   "outputs": [],
   "source": [
    "map_war : Callable[['DB_Output_PlayerWar'], float] = lambda o : (o.prob1 * 0.5) + \\\n",
    "    (o.prob2 * 3) + (o.prob3 * 7.5) + (o.prob4 * 15) + (o.prob5 * 25) + (o.prob6 * 35)"
   ]
  },
  {
   "cell_type": "code",
   "execution_count": 3,
   "id": "f81579cf",
   "metadata": {},
   "outputs": [],
   "source": [
    "cursor = experimental_db.cursor()\n",
    "ids = experimental_db.execute(\"SELECT DISTINCT mlbId,year,month FROM Output_PlayerWar WHERE isHitter=1\").fetchall()"
   ]
  },
  {
   "cell_type": "code",
   "execution_count": 4,
   "id": "2a7cd3df",
   "metadata": {},
   "outputs": [
    {
     "data": {
      "application/vnd.jupyter.widget-view+json": {
       "model_id": "acc0c7fda4714d65820e37aa8d1e5445",
       "version_major": 2,
       "version_minor": 0
      },
      "text/plain": [
       "  0%|          | 0/383285 [00:00<?, ?it/s]"
      ]
     },
     "metadata": {},
     "output_type": "display_data"
    }
   ],
   "source": [
    "hitter_dates = {}\n",
    "for (mlbId, year, month) in tqdm(ids):\n",
    "    opw = DB_Output_PlayerWar.Select_From_DB(cursor, \"WHERE mlbId=? AND year=? AND month=? ORDER BY ModelIdx ASC\", (mlbId, year, month))\n",
    "    model_wars = []\n",
    "    for o in opw:\n",
    "        model_wars.append(map_war(o))\n",
    "    hitter_dates[(mlbId, year, month)] = model_wars"
   ]
  },
  {
   "cell_type": "code",
   "execution_count": 5,
   "id": "faa236d0",
   "metadata": {},
   "outputs": [
    {
     "data": {
      "text/plain": [
       "[6.681289855390787,\n",
       " 7.812194816768169,\n",
       " 6.842796970158815,\n",
       " 8.849818736314774,\n",
       " 10.350250653922558,\n",
       " 10.680302549153566,\n",
       " 6.413032028824091,\n",
       " 3.035410686628893,\n",
       " 6.321809193352237,\n",
       " 6.41505912411958,\n",
       " 8.235563514754176,\n",
       " 12.44167460873723,\n",
       " 7.2431103847920895,\n",
       " 7.850078424438834,\n",
       " 14.766098082996905,\n",
       " 9.926161969080567,\n",
       " 7.909199085086584,\n",
       " 8.674865817651153,\n",
       " 10.145712537690997,\n",
       " 5.410644233226776,\n",
       " 3.4109851913526654,\n",
       " 8.464660240337253,\n",
       " 8.676453925669193,\n",
       " 6.804510127753019,\n",
       " 8.042877995874733,\n",
       " 10.111406855285168,\n",
       " 5.423229835461825,\n",
       " 14.296096432954073,\n",
       " 5.730661193840206,\n",
       " 6.711799563840032,\n",
       " 8.703036030754447,\n",
       " 8.719268234446645,\n",
       " 5.758811146020889,\n",
       " 12.743853285908699,\n",
       " 9.005583133548498,\n",
       " 7.654373766854405,\n",
       " 9.455011559650302,\n",
       " 7.1579134203493595,\n",
       " 3.4381983168423176,\n",
       " 5.93942285887897,\n",
       " 8.48681491613388,\n",
       " 7.73272599466145,\n",
       " 6.3694806369021535,\n",
       " 10.334630437195301,\n",
       " 7.686263402923942,\n",
       " 4.182460298296064,\n",
       " 5.7863932037726045,\n",
       " 10.022003900259733,\n",
       " 14.005657777190208,\n",
       " 9.897881485521793]"
      ]
     },
     "execution_count": 5,
     "metadata": {},
     "output_type": "execute_result"
    }
   ],
   "source": [
    "hitter_dates[(807712,2025,8)]"
   ]
  },
  {
   "cell_type": "code",
   "execution_count": 6,
   "id": "911baf85",
   "metadata": {},
   "outputs": [],
   "source": [
    "def getWar(values : list[float], num : int, upper : bool) -> float :\n",
    "    indices = random.sample(range(25, 50), num) if upper else random.sample(range(25), num)\n",
    "    war = 0\n",
    "    for i in indices:\n",
    "        war += values[i]\n",
    "    return war / num"
   ]
  },
  {
   "cell_type": "code",
   "execution_count": 21,
   "id": "ae812f32",
   "metadata": {},
   "outputs": [],
   "source": [
    "RUNS_PER_HD = 20"
   ]
  },
  {
   "cell_type": "code",
   "execution_count": null,
   "id": "e651f600",
   "metadata": {},
   "outputs": [
    {
     "data": {
      "application/vnd.jupyter.widget-view+json": {
       "model_id": "ab58ca138dd9486b9d608847f2194c8d",
       "version_major": 2,
       "version_minor": 0
      },
      "text/plain": [
       "Number of Runs:   0%|          | 0/23 [00:00<?, ?it/s]"
      ]
     },
     "metadata": {},
     "output_type": "display_data"
    },
    {
     "data": {
      "application/vnd.jupyter.widget-view+json": {
       "model_id": "7b7833782f2b415bbc25ca72835e3c56",
       "version_major": 2,
       "version_minor": 0
      },
      "text/plain": [
       "Hitter-Date pairs:   0%|          | 0/383285 [00:00<?, ?it/s]"
      ]
     },
     "metadata": {},
     "output_type": "display_data"
    },
    {
     "data": {
      "application/vnd.jupyter.widget-view+json": {
       "model_id": "f75729eac6cc4d398483bcef0e63e1bc",
       "version_major": 2,
       "version_minor": 0
      },
      "text/plain": [
       "Hitter-Date pairs:   0%|          | 0/383285 [00:00<?, ?it/s]"
      ]
     },
     "metadata": {},
     "output_type": "display_data"
    },
    {
     "data": {
      "application/vnd.jupyter.widget-view+json": {
       "model_id": "fa7be87de1f242f9b759e3ace99e3306",
       "version_major": 2,
       "version_minor": 0
      },
      "text/plain": [
       "Hitter-Date pairs:   0%|          | 0/383285 [00:00<?, ?it/s]"
      ]
     },
     "metadata": {},
     "output_type": "display_data"
    },
    {
     "data": {
      "application/vnd.jupyter.widget-view+json": {
       "model_id": "34a567e90b214097b0a75abceb0dafe9",
       "version_major": 2,
       "version_minor": 0
      },
      "text/plain": [
       "Hitter-Date pairs:   0%|          | 0/383285 [00:00<?, ?it/s]"
      ]
     },
     "metadata": {},
     "output_type": "display_data"
    },
    {
     "data": {
      "application/vnd.jupyter.widget-view+json": {
       "model_id": "c9b980de89644391a46ed1604e50e3fd",
       "version_major": 2,
       "version_minor": 0
      },
      "text/plain": [
       "Hitter-Date pairs:   0%|          | 0/383285 [00:00<?, ?it/s]"
      ]
     },
     "metadata": {},
     "output_type": "display_data"
    },
    {
     "data": {
      "application/vnd.jupyter.widget-view+json": {
       "model_id": "d016969ebcc2459e8c8407660e3316b0",
       "version_major": 2,
       "version_minor": 0
      },
      "text/plain": [
       "Hitter-Date pairs:   0%|          | 0/383285 [00:00<?, ?it/s]"
      ]
     },
     "metadata": {},
     "output_type": "display_data"
    },
    {
     "data": {
      "application/vnd.jupyter.widget-view+json": {
       "model_id": "e415e24b5e6e49928616f1f7929ce979",
       "version_major": 2,
       "version_minor": 0
      },
      "text/plain": [
       "Hitter-Date pairs:   0%|          | 0/383285 [00:00<?, ?it/s]"
      ]
     },
     "metadata": {},
     "output_type": "display_data"
    },
    {
     "data": {
      "application/vnd.jupyter.widget-view+json": {
       "model_id": "6a55b5ceb4fa4c1d80a20de7c795b96b",
       "version_major": 2,
       "version_minor": 0
      },
      "text/plain": [
       "Hitter-Date pairs:   0%|          | 0/383285 [00:00<?, ?it/s]"
      ]
     },
     "metadata": {},
     "output_type": "display_data"
    },
    {
     "data": {
      "application/vnd.jupyter.widget-view+json": {
       "model_id": "12465aa0bf314199a01629df8b03b166",
       "version_major": 2,
       "version_minor": 0
      },
      "text/plain": [
       "Hitter-Date pairs:   0%|          | 0/383285 [00:00<?, ?it/s]"
      ]
     },
     "metadata": {},
     "output_type": "display_data"
    },
    {
     "data": {
      "application/vnd.jupyter.widget-view+json": {
       "model_id": "eb1317046e284020ac35da27d1fc1083",
       "version_major": 2,
       "version_minor": 0
      },
      "text/plain": [
       "Hitter-Date pairs:   0%|          | 0/383285 [00:00<?, ?it/s]"
      ]
     },
     "metadata": {},
     "output_type": "display_data"
    },
    {
     "data": {
      "application/vnd.jupyter.widget-view+json": {
       "model_id": "0937bb344a114c9e8c1ef89e725ef058",
       "version_major": 2,
       "version_minor": 0
      },
      "text/plain": [
       "Hitter-Date pairs:   0%|          | 0/383285 [00:00<?, ?it/s]"
      ]
     },
     "metadata": {},
     "output_type": "display_data"
    },
    {
     "data": {
      "application/vnd.jupyter.widget-view+json": {
       "model_id": "df5a3a108ee446a693d011f202d6d531",
       "version_major": 2,
       "version_minor": 0
      },
      "text/plain": [
       "Hitter-Date pairs:   0%|          | 0/383285 [00:00<?, ?it/s]"
      ]
     },
     "metadata": {},
     "output_type": "display_data"
    },
    {
     "data": {
      "application/vnd.jupyter.widget-view+json": {
       "model_id": "418793f60cd94eb895a29d40dab57837",
       "version_major": 2,
       "version_minor": 0
      },
      "text/plain": [
       "Hitter-Date pairs:   0%|          | 0/383285 [00:00<?, ?it/s]"
      ]
     },
     "metadata": {},
     "output_type": "display_data"
    },
    {
     "data": {
      "application/vnd.jupyter.widget-view+json": {
       "model_id": "3346fab914c64fb59b12102d7c4831b8",
       "version_major": 2,
       "version_minor": 0
      },
      "text/plain": [
       "Hitter-Date pairs:   0%|          | 0/383285 [00:00<?, ?it/s]"
      ]
     },
     "metadata": {},
     "output_type": "display_data"
    },
    {
     "data": {
      "application/vnd.jupyter.widget-view+json": {
       "model_id": "971c9cf668ea4d1780434c0ed7d62c39",
       "version_major": 2,
       "version_minor": 0
      },
      "text/plain": [
       "Hitter-Date pairs:   0%|          | 0/383285 [00:00<?, ?it/s]"
      ]
     },
     "metadata": {},
     "output_type": "display_data"
    },
    {
     "data": {
      "application/vnd.jupyter.widget-view+json": {
       "model_id": "bca2fb82aa614206a27a2590f936a312",
       "version_major": 2,
       "version_minor": 0
      },
      "text/plain": [
       "Hitter-Date pairs:   0%|          | 0/383285 [00:00<?, ?it/s]"
      ]
     },
     "metadata": {},
     "output_type": "display_data"
    },
    {
     "data": {
      "application/vnd.jupyter.widget-view+json": {
       "model_id": "8d320a21b1284413bd50fc4499ae861b",
       "version_major": 2,
       "version_minor": 0
      },
      "text/plain": [
       "Hitter-Date pairs:   0%|          | 0/383285 [00:00<?, ?it/s]"
      ]
     },
     "metadata": {},
     "output_type": "display_data"
    },
    {
     "data": {
      "application/vnd.jupyter.widget-view+json": {
       "model_id": "a16476758a58478d880564cbf8489d7b",
       "version_major": 2,
       "version_minor": 0
      },
      "text/plain": [
       "Hitter-Date pairs:   0%|          | 0/383285 [00:00<?, ?it/s]"
      ]
     },
     "metadata": {},
     "output_type": "display_data"
    },
    {
     "data": {
      "application/vnd.jupyter.widget-view+json": {
       "model_id": "dae62a6bf7f144b1b845d1dab46bad3e",
       "version_major": 2,
       "version_minor": 0
      },
      "text/plain": [
       "Hitter-Date pairs:   0%|          | 0/383285 [00:00<?, ?it/s]"
      ]
     },
     "metadata": {},
     "output_type": "display_data"
    },
    {
     "data": {
      "application/vnd.jupyter.widget-view+json": {
       "model_id": "65c83d62722e476d915fafa48e28a1c7",
       "version_major": 2,
       "version_minor": 0
      },
      "text/plain": [
       "Hitter-Date pairs:   0%|          | 0/383285 [00:00<?, ?it/s]"
      ]
     },
     "metadata": {},
     "output_type": "display_data"
    },
    {
     "data": {
      "application/vnd.jupyter.widget-view+json": {
       "model_id": "c1da829f320c4698a08acfb362d3c450",
       "version_major": 2,
       "version_minor": 0
      },
      "text/plain": [
       "Hitter-Date pairs:   0%|          | 0/383285 [00:00<?, ?it/s]"
      ]
     },
     "metadata": {},
     "output_type": "display_data"
    },
    {
     "data": {
      "application/vnd.jupyter.widget-view+json": {
       "model_id": "54ea3a3e47214faab1e00bd27ac54367",
       "version_major": 2,
       "version_minor": 0
      },
      "text/plain": [
       "Hitter-Date pairs:   0%|          | 0/383285 [00:00<?, ?it/s]"
      ]
     },
     "metadata": {},
     "output_type": "display_data"
    },
    {
     "data": {
      "application/vnd.jupyter.widget-view+json": {
       "model_id": "867cd30c80894d53b5be71507d8a1fd7",
       "version_major": 2,
       "version_minor": 0
      },
      "text/plain": [
       "Hitter-Date pairs:   0%|          | 0/383285 [00:00<?, ?it/s]"
      ]
     },
     "metadata": {},
     "output_type": "display_data"
    }
   ],
   "source": [
    "num_models = []\n",
    "l1Errors = []\n",
    "l2Errors = []\n",
    "for n in tqdm(range(1, 24), desc=\"Number of Runs\"):\n",
    "    mean_error = 0\n",
    "    mean_sq_error = 0\n",
    "    for hd in tqdm(hitter_dates, desc=\"Hitter-Date pairs\", leave=False):\n",
    "        war_list = hitter_dates[hd]\n",
    "        for _ in range(RUNS_PER_HD):\n",
    "            bottom = getWar(war_list, n, False)\n",
    "            top = getWar(war_list, n, True)\n",
    "            \n",
    "            dif = abs(bottom - top)\n",
    "            mean_error += dif\n",
    "            mean_sq_error += (dif * dif)\n",
    "            \n",
    "    num_models.append(n)\n",
    "    l1Errors.append(mean_error)\n",
    "    l2Errors.append(mean_sq_error)"
   ]
  },
  {
   "cell_type": "code",
   "execution_count": 8,
   "id": "7b350eee",
   "metadata": {},
   "outputs": [],
   "source": [
    "import matplotlib.pyplot as plt"
   ]
  },
  {
   "cell_type": "code",
   "execution_count": 22,
   "id": "e751aecf",
   "metadata": {},
   "outputs": [],
   "source": [
    "l = len(hitter_dates) * RUNS_PER_HD\n",
    "l1ErrorsMean = [x / l for x in l1Errors]\n",
    "l2ErrorsMean = [x / l for x in l2Errors]"
   ]
  },
  {
   "cell_type": "code",
   "execution_count": 27,
   "id": "7a375b95",
   "metadata": {},
   "outputs": [
    {
     "data": {
      "image/png": "[encoded data removed]",
      "text/plain": [
       "<Figure size 640x480 with 1 Axes>"
      ]
     },
     "metadata": {},
     "output_type": "display_data"
    }
   ],
   "source": [
    "plt.plot(num_models, l1ErrorsMean, label='L1 Error', color='blue')\n",
    "plt.plot(num_models, l2ErrorsMean, label='Error Squared', color='red')\n",
    "plt.legend()\n",
    "plt.title('Run to run error')\n",
    "plt.xlabel('Number of runs')\n",
    "plt.ylabel('Run to Run Error')\n",
    "\n",
    "plt.savefig('aggregation_experiment.png')"
   ]
  }
 ],
 "metadata": {
  "kernelspec": {
   "display_name": "Python 3",
   "language": "python",
   "name": "python3"
  },
  "language_info": {
   "codemirror_mode": {
    "name": "ipython",
    "version": 3
   },
   "file_extension": ".py",
   "mimetype": "text/x-python",
   "name": "python",
   "nbconvert_exporter": "python",
   "pygments_lexer": "ipython3",
   "version": "3.11.9"
  }
 },
 "nbformat": 4,
 "nbformat_minor": 5
}
