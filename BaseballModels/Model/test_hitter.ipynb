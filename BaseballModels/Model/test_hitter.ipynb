{
 "cells": [
  {
   "cell_type": "code",
   "execution_count": null,
   "id": "276691c6",
   "metadata": {},
   "outputs": [],
   "source": [
    "import importlib\n",
    "import torch\n",
    "import Data_Prep\n",
    "importlib.reload(Data_Prep)\n",
    "from Data_Prep import Data_Prep, Player_IO\n",
    "import Prep_Map\n",
    "importlib.reload(Prep_Map)\n",
    "import Output_Map\n",
    "importlib.reload(Output_Map)\n",
    "import Player_Dataset\n",
    "importlib.reload(Player_Dataset)\n",
    "from Player_Dataset import Player_Dataset, Create_Test_Train_Datasets"
   ]
  },
  {
   "cell_type": "code",
   "execution_count": null,
   "id": "4233e901",
   "metadata": {},
   "outputs": [],
   "source": [
    "data_prep = Data_Prep(Prep_Map.base_prep_map, Output_Map.base_output_map)\n",
    "hitter_io_list = data_prep.Generate_IO_Hitters(\"WHERE lastMLBSeason<? AND signingYear<? AND isHitter=?\", (2025,2015,1), use_cutoff=True)\n",
    "train_dataset, test_dataset = Create_Test_Train_Datasets(hitter_io_list, 0.25, 0)"
   ]
  },
  {
   "cell_type": "markdown",
   "id": "07f59be1",
   "metadata": {},
   "source": [
    "Train Model"
   ]
  },
  {
   "cell_type": "code",
   "execution_count": null,
   "id": "d55be864",
   "metadata": {},
   "outputs": [],
   "source": [
    "def count_parameters(model):\n",
    "    return sum(p.numel() for p in model.parameters() if p.requires_grad)"
   ]
  },
  {
   "cell_type": "code",
   "execution_count": null,
   "id": "177b3e91",
   "metadata": {},
   "outputs": [],
   "source": [
    "import Player_Model\n",
    "importlib.reload(Player_Model)\n",
    "from Player_Model import RNN_Model\n",
    "from torch.optim import lr_scheduler\n",
    "import Model_Train\n",
    "importlib.reload(Model_Train)\n",
    "from Model_Train import trainAndGraph\n",
    "from Constants import device\n",
    "\n",
    "batch_size = 200\n",
    "hitting_mutators = data_prep.Generate_Hitting_Mutators(batch_size, Player_IO.GetMaxLength(hitter_io_list))\n",
    "\n",
    "num_layers = 4\n",
    "hidden_size = 20\n",
    "network = RNN_Model(train_dataset.get_input_size(), num_layers, hidden_size, hitting_mutators, data_prep=data_prep, is_hitter=True)\n",
    "network = network.to(device)\n",
    "\n",
    "print(\"Num. Parameters:\", count_parameters(network))\n",
    "\n",
    "optimizer = torch.optim.Adam(network.parameters(), lr=0.004)\n",
    "scheduler = lr_scheduler.ReduceLROnPlateau(optimizer, factor=0.9, patience=50, cooldown=10, verbose=False)\n",
    "\n",
    "num_epochs = 100\n",
    "training_generator = torch.utils.data.DataLoader(train_dataset, batch_size=batch_size, shuffle=True)\n",
    "testing_generator = torch.utils.data.DataLoader(test_dataset, batch_size=batch_size, shuffle=False)\n",
    "\n",
    "trainAndGraph(network, training_generator, testing_generator, len(train_dataset), len(test_dataset), optimizer, scheduler, num_epochs, logging_interval=25, early_stopping_cutoff=2000, should_output=True, model_name=\"Models/default_hitter.pt\", save_last=True)"
   ]
  },
  {
   "cell_type": "markdown",
   "id": "8270061d",
   "metadata": {},
   "source": [
    "Testing"
   ]
  },
  {
   "cell_type": "code",
   "execution_count": null,
   "id": "032cc55a",
   "metadata": {},
   "outputs": [],
   "source": [
    "import torch.nn as nn\n",
    "import sqlite3\n",
    "from tqdm import tqdm\n",
    "test_db = sqlite3.connect('test.db')"
   ]
  },
  {
   "cell_type": "code",
   "execution_count": null,
   "id": "94917165",
   "metadata": {},
   "outputs": [],
   "source": [
    "network.load_state_dict(torch.load(\"Models/default_hitter.pt\"))\n",
    "network.eval()\n",
    "network = network.to(device)"
   ]
  },
  {
   "cell_type": "code",
   "execution_count": null,
   "id": "509cae2f",
   "metadata": {},
   "outputs": [],
   "source": [
    "cursor = test_db.cursor()\n",
    "cursor.execute(\"DELETE FROM StatPred\")\n",
    "cursor.execute(\"DELETE FROM StatAct\")\n",
    "cursor.execute(\"DELETE FROM MlbValuePredH\")\n",
    "cursor.execute(\"DELETE FROM MlbValueActH\")\n",
    "test_db.commit()\n",
    "cursor = test_db\n",
    "\n",
    "softmax = nn.Softmax(dim=0)\n",
    "\n",
    "mlb_value_mean : torch.Tensor = data_prep.__getattribute__('__hittervalues_means').to(device)\n",
    "mlb_value_stds : torch.Tensor = data_prep.__getattribute__('__hittervalues_devs').to(device)\n",
    "\n",
    "for io in tqdm(hitter_io_list):\n",
    "    hitter = io.player\n",
    "    input = io.input.unsqueeze(0)  \n",
    "    output = io.output\n",
    "    l = torch.tensor([input.shape[1]])\n",
    "    twar, pwar, level, pa, value, year_stats, year_positions, mlb_value = network(input.to(device), l.to(device))\n",
    "    \n",
    "    mlb_value = mlb_value.squeeze(0)\n",
    "    mlb_value_norm = (mlb_value * mlb_value_stds) + mlb_value_mean\n",
    "    \n",
    "    mlb_value_act = (io.mlb_value_stats.to(device) * mlb_value_stds) + mlb_value_mean\n",
    "    for i in range(io.year_stat_output.size(0)):\n",
    "        year_position_probs = softmax(year_positions.squeeze(0)[i,:9])\n",
    "        test_db.execute(\"INSERT INTO StatPred VALUES (?,?,?,?,?,?,?,?,?,?,?,?,?,?,?,?,?,?,?,?,?,?,?,?,?)\", (hitter.mlbId, 1, 1, io.dates[i,1].item(), io.dates[i,2].item()) + tuple(year_stats.squeeze(0)[i,:11].tolist()) + tuple(year_position_probs.tolist()))\n",
    "        test_db.execute(\"INSERT INTO StatAct VALUES (?,?,?,?,?,?,?,?,?,?,?,?,?,?,?,?,?,?,?,?,?,?,?,?,?)\", (hitter.mlbId, 1, 1, io.dates[i,1].item(), io.dates[i,2].item()) + tuple(io.year_stat_output[i,:].tolist()) + tuple(io.year_pos_output[i,:].tolist()))\n",
    "        test_db.execute(\"INSERT INTO MlbValuePredH VALUES (?,?,?,?,?,?,?,?,?,?,?,?,?,?,?,?,?,?)\", (hitter.mlbId,)  + tuple(io.dates[i,1:3].tolist()) + tuple(mlb_value_norm[i,:].tolist()))\n",
    "        test_db.execute(\"INSERT INTO MlbValueActH VALUES (?,?,?,?,?,?,?,?,?,?,?,?,?,?,?,?,?,?)\", (hitter.mlbId,)  + tuple(io.dates[i,1:3].tolist()) + tuple(mlb_value_act[i,:].tolist()))\n",
    "test_db.commit()"
   ]
  },
  {
   "cell_type": "code",
   "execution_count": null,
   "id": "1ed23b84",
   "metadata": {},
   "outputs": [],
   "source": [
    "import Player_Model\n",
    "importlib.reload(Player_Model)\n",
    "from Player_Model import RNN_Model\n",
    "\n",
    "mlb_value_mean : torch.Tensor = data_prep.__getattribute__('__hittervalues_means').to(device)\n",
    "mlb_value_stds : torch.Tensor = data_prep.__getattribute__('__hittervalues_devs').to(device)\n",
    "\n",
    "network = RNN_Model(train_dataset.get_input_size(), num_layers, hidden_size, hitting_mutators, data_prep=data_prep, is_hitter=True)\n",
    "network = network.to(device)\n",
    "\n",
    "for io in hitter_io_list:\n",
    "    hitter = io.player\n",
    "    if hitter.mlbId == 545361:\n",
    "        input = io.input.unsqueeze(0)  \n",
    "        output = io.output\n",
    "        l = torch.tensor([input.shape[1]])\n",
    "        twar, pwar, level, pa, value, year_stats, year_positions, mlb_value = network(input.to(device), l.to(device))\n",
    "        \n",
    "        mlb_value = mlb_value.squeeze(0)\n",
    "        mlb_value_norm = (mlb_value * mlb_value_stds) + mlb_value_mean\n",
    "        \n",
    "        mlb_value_act = (io.mlb_value_stats.to(device) * mlb_value_stds) + mlb_value_mean\n",
    "        \n",
    "        Player_Model.Mlb_Value_Loss(mlb_value.unsqueeze(0), io.mlb_value_stats.to(device).unsqueeze(0), io.mlb_value_mask.to(device).unsqueeze(0))"
   ]
  },
  {
   "cell_type": "markdown",
   "id": "6cae9369",
   "metadata": {},
   "source": [
    "Statsonly pretraining"
   ]
  },
  {
   "cell_type": "code",
   "execution_count": null,
   "id": "c433d364",
   "metadata": {},
   "outputs": [],
   "source": [
    "data_prep = Data_Prep(Prep_Map.statsonly_prep_map, Output_Map.base_output_map)\n",
    "hitter_io_list = data_prep.Generate_IO_Hitters(\"WHERE lastMLBSeason<? AND signingYear<? AND isHitter=?\", (2025,2015,1), use_cutoff=True)\n",
    "train_dataset, test_dataset = Create_Test_Train_Datasets(hitter_io_list, 0.25, 0)"
   ]
  },
  {
   "cell_type": "code",
   "execution_count": null,
   "id": "6ffb1b16",
   "metadata": {},
   "outputs": [],
   "source": [
    "batch_size = 200\n",
    "hitting_mutators = data_prep.Generate_Hitting_Mutators(batch_size, Player_IO.GetMaxLength(hitter_io_list))\n",
    "\n",
    "num_layers = 4\n",
    "hidden_size = 20\n",
    "network = RNN_Model(train_dataset.get_input_size(), num_layers, hidden_size, hitting_mutators, data_prep=data_prep, is_hitter=True)\n",
    "network = network.to(device)\n",
    "\n",
    "print(\"Num. Parameters:\", count_parameters(network))\n",
    "\n",
    "optimizer = torch.optim.Adam(network.parameters(), lr=0.004)\n",
    "scheduler = lr_scheduler.ReduceLROnPlateau(optimizer, factor=0.9, patience=50, cooldown=10, verbose=False)\n",
    "\n",
    "num_epochs = 100\n",
    "training_generator = torch.utils.data.DataLoader(train_dataset, batch_size=batch_size, shuffle=True)\n",
    "testing_generator = torch.utils.data.DataLoader(test_dataset, batch_size=batch_size, shuffle=False)\n",
    "\n",
    "trainAndGraph(network, training_generator, testing_generator, len(train_dataset), len(test_dataset), optimizer, scheduler, num_epochs, logging_interval=25, early_stopping_cutoff=2000, should_output=True, model_name=\"Models/default_statsonly_hitter.pt\", save_last=True)"
   ]
  }
 ],
 "metadata": {
  "kernelspec": {
   "display_name": "Python 3",
   "language": "python",
   "name": "python3"
  },
  "language_info": {
   "codemirror_mode": {
    "name": "ipython",
    "version": 3
   },
   "file_extension": ".py",
   "mimetype": "text/x-python",
   "name": "python",
   "nbconvert_exporter": "python",
   "pygments_lexer": "ipython3",
   "version": "3.11.9"
  }
 },
 "nbformat": 4,
 "nbformat_minor": 5
}
